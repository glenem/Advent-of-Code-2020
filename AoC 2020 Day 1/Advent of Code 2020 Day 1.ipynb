{
 "cells": [
  {
   "cell_type": "markdown",
   "id": "34232a44",
   "metadata": {},
   "source": [
    "# AoC 2020 Day 1: Report Repair\n",
    "\n",
    "## Part 1\n",
    "Task:\n",
    "\n",
    "Before you leave, the Elves in accounting just need you to fix your expense report (your puzzle input); apparently, something isn't quite adding up.\n",
    "\n",
    "Specifically, they need you to find the two entries that sum to 2020 and then multiply those two numbers together.\n",
    "\n",
    "Potential Solution:\n",
    "\n",
    "One way to solve this puzzle is to start with the first element and then add all subsequent elements to it to see if they sum to 2020 and then go to the second element and add every subsequent elements to that one and so on. If one pair sums to 2020 then we can retrive that pair and multiply them. "
   ]
  },
  {
   "cell_type": "code",
   "execution_count": 1,
   "id": "08b93efb",
   "metadata": {},
   "outputs": [],
   "source": [
    "# Libraries\n",
    "import numpy as np\n"
   ]
  },
  {
   "cell_type": "code",
   "execution_count": 2,
   "id": "b38add96",
   "metadata": {},
   "outputs": [
    {
     "name": "stdout",
     "output_type": "stream",
     "text": [
      "514579\n",
      "514579\n"
     ]
    }
   ],
   "source": [
    "a = [1721, 979, 366, 299, 675, 1456]\n",
    "\n",
    "for i in range(len(a)):\n",
    "    for w in range(len(a)):\n",
    "        c = a[i] + a[w]\n",
    "        if c == 2020:\n",
    "            d = a[i]*a[w]\n",
    "            print(d)\n",
    "        else:\n",
    "            continue\n",
    "        \n",
    "    "
   ]
  },
  {
   "cell_type": "code",
   "execution_count": 3,
   "id": "7a8d2790",
   "metadata": {},
   "outputs": [],
   "source": [
    "# Loading in data\n",
    "aoc_day1_data = np.loadtxt(\"AoC 2020 Data.txt\")"
   ]
  },
  {
   "cell_type": "code",
   "execution_count": 6,
   "id": "0f762710",
   "metadata": {},
   "outputs": [
    {
     "name": "stdout",
     "output_type": "stream",
     "text": [
      "876459.0\n",
      "876459.0\n"
     ]
    }
   ],
   "source": [
    "\n",
    "for i in range(len(aoc_day1_data)):\n",
    "    for w in range(len(aoc_day1_data)):\n",
    "        c = aoc_day1_data[i] + aoc_day1_data[w]\n",
    "        if c == 2020:\n",
    "            d = aoc_day1_data[i]*aoc_day1_data[w]\n",
    "            print(d)\n",
    "        else:\n",
    "            continue"
   ]
  },
  {
   "cell_type": "markdown",
   "id": "b5ca8158",
   "metadata": {},
   "source": [
    "## Part 2\n",
    "\n",
    "Task:\n",
    "The Elves in accounting are thankful for your help; one of them even offers you a starfish coin they had left over from a past vacation. They offer you a second one if you can find three numbers in your expense report that meet the same criteria.\n",
    "\n",
    "That is we need three elements that produce 2020\n",
    "\n",
    "Potential Solution: Same as the last one but with one more loop added to the mix.\n"
   ]
  },
  {
   "cell_type": "code",
   "execution_count": 38,
   "id": "a18e508c",
   "metadata": {},
   "outputs": [
    {
     "name": "stdout",
     "output_type": "stream",
     "text": [
      "241861950\n"
     ]
    }
   ],
   "source": [
    "# Practice Run\n",
    "a = [1721, 979, 366, 299, 675, 1456]\n",
    "\n",
    "# Developed reusable function to solve this puzzle\n",
    "def sum_three(T):\n",
    "    for i in range(len(T)):\n",
    "        for w in range(len(T)):\n",
    "            for f in range(len(T)):\n",
    "                c = T[i] + T[w] + T[f]\n",
    "                if c == 2020:\n",
    "                    d = T[i]*T[w]*T[f]  \n",
    "                    print(d)\n",
    "                    return\n",
    "                else:\n",
    "                    continue\n",
    "sum_three(a)\n"
   ]
  },
  {
   "cell_type": "code",
   "execution_count": 39,
   "id": "d1a4ceca",
   "metadata": {},
   "outputs": [
    {
     "name": "stdout",
     "output_type": "stream",
     "text": [
      "116168640.0\n"
     ]
    }
   ],
   "source": [
    "sum_three(aoc_day1_data)"
   ]
  }
 ],
 "metadata": {
  "kernelspec": {
   "display_name": "Python 3",
   "language": "python",
   "name": "python3"
  },
  "language_info": {
   "codemirror_mode": {
    "name": "ipython",
    "version": 3
   },
   "file_extension": ".py",
   "mimetype": "text/x-python",
   "name": "python",
   "nbconvert_exporter": "python",
   "pygments_lexer": "ipython3",
   "version": "3.7.10"
  }
 },
 "nbformat": 4,
 "nbformat_minor": 5
}
