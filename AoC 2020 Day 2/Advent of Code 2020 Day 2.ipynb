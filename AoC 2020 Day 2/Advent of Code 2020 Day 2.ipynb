{
 "cells": [
  {
   "cell_type": "markdown",
   "id": "88382251",
   "metadata": {},
   "source": [
    "# AoC 2020 Day 2: Password Philosophy\n",
    "\n",
    "## Part 1\n",
    "\n",
    "Task:\n",
    "How many passwords are valid according to their policies?\n",
    "\n",
    "EX: 1-3 a: abde\n",
    "In the example the first string 1-3 determines how many times the letter \"a\" could show up in the given password. From the example the min amount of times a could show up is 1 and the max is 3. So by the company's policy this is a valid password. \n"
   ]
  },
  {
   "cell_type": "code",
   "execution_count": 39,
   "id": "3e94f0a8",
   "metadata": {
    "scrolled": true
   },
   "outputs": [
    {
     "data": {
      "text/plain": [
       "2"
      ]
     },
     "execution_count": 39,
     "metadata": {},
     "output_type": "execute_result"
    }
   ],
   "source": [
    "import numpy as np\n",
    "import pandas as pd\n",
    "# Practice\n",
    "\n",
    "# Enter data into an np array\n",
    "a = np.array([\n",
    "                [\"1-3\", \"a:\", \"abcde\"], \n",
    "                ['1-3', \"b:\", \"cdefg\"],\n",
    "                [\"2-9\", \"c:\", \"ccccccccc\"]\n",
    "                 ])\n",
    "\n",
    "# Function to complete the task\n",
    "def PW_counter(T):\n",
    "    \n",
    "    # Clean data to a useable format in a data frame\n",
    "    a_pd = pd.DataFrame(T) \n",
    "    df = a_pd[0].str.split(\"-\", expand=True)\n",
    "    Letter = a_pd[1].str.split(\":\", expand=True)\n",
    "    df.rename(columns = {0:\"Min\", 1: \"Max\"}, inplace = True)\n",
    "    convert_dict = {\"Min\": int, \n",
    "                   \"Max\": int}\n",
    "    df = df.astype(convert_dict)\n",
    "    df[\"Letter\"] = pd.Series(Letter[0])\n",
    "    df[\"Password\"] = pd.Series(a_pd[2])\n",
    "    \n",
    "    #return len(T)\n",
    "    #return range(len(T))\n",
    "    # return df\n",
    "    # return df.to_excel(r'C:\\Users\\glenm\\Documents\\Data Projects\\Advent-of-Code-2020\\AoC 2020 Day 2\\AoC2020Day2.xlsx', index = False)\n",
    "    \n",
    "    # Counter for the number of valid passwords \n",
    "    validPW = 0\n",
    "    \n",
    "    for i in range(len(T)):\n",
    "        c = df[\"Password\"][i].count(df[\"Letter\"][i])\n",
    "        \n",
    "        # If the password is valid it increses the counter by 1\n",
    "        if c == df[\"Min\"][i]:\n",
    "            validPW += 1 \n",
    "        \n",
    "        elif df[\"Min\"][i] < c <= df[\"Max\"][i]:\n",
    "            validPW +=1\n",
    "        \n",
    "        else:\n",
    "            continue\n",
    "\n",
    "    # Returns the number of passwords that match the criteria in the data\n",
    "    return(validPW)\n",
    "    \n",
    "PW_counter(a)\n"
   ]
  },
  {
   "cell_type": "code",
   "execution_count": 38,
   "id": "69268e59",
   "metadata": {},
   "outputs": [
    {
     "data": {
      "text/plain": [
       "622"
      ]
     },
     "execution_count": 38,
     "metadata": {},
     "output_type": "execute_result"
    }
   ],
   "source": [
    "# Loading in data\n",
    "AoC_D2 = np.loadtxt(\"AoC 2020 Day 2 Data.txt\", dtype=str)\n",
    "PW_counter(AoC_D2)\n",
    "\n"
   ]
  },
  {
   "cell_type": "markdown",
   "id": "7a668ca5",
   "metadata": {},
   "source": [
    "## Part 2\n",
    "\n",
    "Rules: Each policy describes two positions in the password. For 1-3 a: abde we see that there are two positions the first position and the theird (in python index 0 and 2). For the password to be valid *exactly one of the two positions must contain the given letter*.\n",
    "\n",
    "Task: How many passwords are valid according to the new interpretation of the policies?\n"
   ]
  },
  {
   "cell_type": "code",
   "execution_count": 46,
   "id": "2260dfce",
   "metadata": {},
   "outputs": [
    {
     "data": {
      "text/plain": [
       "1"
      ]
     },
     "execution_count": 46,
     "metadata": {},
     "output_type": "execute_result"
    }
   ],
   "source": [
    "def newPW_counter(T):\n",
    "    # Clean data to a useable format in a data frame\n",
    "    a_pd = pd.DataFrame(T) \n",
    "    df = a_pd[0].str.split(\"-\", expand=True)\n",
    "    Letter = a_pd[1].str.split(\":\", expand=True)\n",
    "    df.rename(columns = {0:\"Min\", 1: \"Max\"}, inplace = True)\n",
    "    convert_dict = {\"Min\": int, \n",
    "                   \"Max\": int}\n",
    "    df = df.astype(convert_dict)\n",
    "    df[\"Letter\"] = pd.Series(Letter[0])\n",
    "    df[\"Password\"] = pd.Series(a_pd[2])\n",
    "    \n",
    "    # Reindex the positions given in the policy to one that is Python friendly\n",
    "    df[\"Min\"] = df[\"Min\"] - 1\n",
    "    df[\"Max\"] = df[\"Max\"] - 1\n",
    "    \n",
    "    #return df\n",
    "\n",
    "    \n",
    "    # Counter for the number of valid passwords \n",
    "    validPW = 0\n",
    "    \n",
    "    for i in range(len(T)):\n",
    "        \n",
    "        # If the password is valid it increses the counter by 1\n",
    "        if df[\"Password\"][i][df[\"Min\"][i]] == df[\"Letter\"][i] and df[\"Password\"][i][df[\"Max\"][i]] != df[\"Letter\"][i]:\n",
    "            validPW += 1 \n",
    "            \n",
    "        elif df[\"Password\"][i][df[\"Min\"][i]] != df[\"Letter\"][i] and df[\"Password\"][i][df[\"Max\"][i]] == df[\"Letter\"][i]:\n",
    "            validPW += 1 \n",
    "            \n",
    "        else:\n",
    "            continue\n",
    "\n",
    "    # Returns the number of passwords that match the criteria in the data\n",
    "    return(validPW)\n",
    "    \n",
    "newPW_counter(a)"
   ]
  },
  {
   "cell_type": "code",
   "execution_count": 47,
   "id": "099d6ec9",
   "metadata": {},
   "outputs": [
    {
     "data": {
      "text/plain": [
       "263"
      ]
     },
     "execution_count": 47,
     "metadata": {},
     "output_type": "execute_result"
    }
   ],
   "source": [
    "newPW_counter(AoC_D2)"
   ]
  }
 ],
 "metadata": {
  "kernelspec": {
   "display_name": "Python 3",
   "language": "python",
   "name": "python3"
  },
  "language_info": {
   "codemirror_mode": {
    "name": "ipython",
    "version": 3
   },
   "file_extension": ".py",
   "mimetype": "text/x-python",
   "name": "python",
   "nbconvert_exporter": "python",
   "pygments_lexer": "ipython3",
   "version": "3.7.10"
  }
 },
 "nbformat": 4,
 "nbformat_minor": 5
}
