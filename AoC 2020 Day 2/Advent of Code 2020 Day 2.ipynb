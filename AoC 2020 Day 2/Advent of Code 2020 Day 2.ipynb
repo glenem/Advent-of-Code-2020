{
 "cells": [
  {
   "cell_type": "markdown",
   "id": "88382251",
   "metadata": {},
   "source": [
    "# AoC 2020 Day 2: Password Philosophy\n",
    "\n",
    "Task:\n",
    "How many passwords are valid according to their policies?\n",
    "\n",
    "EX: 1-3 a: abde\n",
    "In the example the first string 1-3 determines how many times the letter \"a\" could show up in the given password. From the example the min amount of times a could show up is 1 and the max is 3. So by the company's policy this is a valid password. \n"
   ]
  },
  {
   "cell_type": "code",
   "execution_count": 30,
   "id": "3e94f0a8",
   "metadata": {
    "scrolled": true
   },
   "outputs": [
    {
     "data": {
      "text/plain": [
       "2"
      ]
     },
     "execution_count": 30,
     "metadata": {},
     "output_type": "execute_result"
    }
   ],
   "source": [
    "import numpy as np\n",
    "import pandas as pd\n",
    "# Practice\n",
    "\n",
    "# Enter data into an np array\n",
    "a = np.array([\n",
    "                [\"1-3\", \"a:\", \"abcde\"], \n",
    "                ['1-3', \"b:\", \"cdefg\"],\n",
    "                [\"2-9\", \"c:\", \"ccccccccc\"]\n",
    "                 ])\n",
    "\n",
    "# Function to complete the task\n",
    "def PW_counter(T):\n",
    "    \n",
    "    # Clean data to a useable format in a data frame\n",
    "    a_pd = pd.DataFrame(T) \n",
    "    df = a_pd[0].str.split(\"-\", expand=True)\n",
    "    Letter = a_pd[1].str.split(\":\", expand=True)\n",
    "    df.rename(columns = {0:\"Min\", 1: \"Max\"}, inplace = True)\n",
    "    convert_dict = {\"Min\": int, \n",
    "                   \"Max\": int}\n",
    "    df = df.astype(convert_dict)\n",
    "    df[\"Letter\"] = pd.Series(Letter[0])\n",
    "    df[\"Password\"] = pd.Series(a_pd[2])\n",
    "    \n",
    "    #return range(len(T)\n",
    "    #return df\n",
    "    \n",
    "    # Counter for the number of valid passwords \n",
    "    validPW = 0\n",
    "    for i in range(len(T)):\n",
    "        c = df[\"Password\"][i].count(df[\"Letter\"][i])\n",
    "        \n",
    "        # If the password is valid it increses the counter by 1\n",
    "        if c == df[\"Min\"][i] or c == df[\"Max\"][i]:\n",
    "            validPW += 1 \n",
    "        \n",
    "        else:\n",
    "            continue\n",
    "\n",
    "    # Returns the number of passwords that match the criteria in the data\n",
    "    return(validPW)\n",
    "    \n",
    "PW_counter(a)\n"
   ]
  },
  {
   "cell_type": "code",
   "execution_count": 31,
   "id": "69268e59",
   "metadata": {},
   "outputs": [
    {
     "data": {
      "text/plain": [
       "321"
      ]
     },
     "execution_count": 31,
     "metadata": {},
     "output_type": "execute_result"
    }
   ],
   "source": [
    "# Loading in data\n",
    "AoC_D2 = np.loadtxt(\"AoC 2020 Day 2 Data.txt\", dtype=str)\n",
    "PW_counter(AoC_D2)\n"
   ]
  }
 ],
 "metadata": {
  "kernelspec": {
   "display_name": "Python 3",
   "language": "python",
   "name": "python3"
  },
  "language_info": {
   "codemirror_mode": {
    "name": "ipython",
    "version": 3
   },
   "file_extension": ".py",
   "mimetype": "text/x-python",
   "name": "python",
   "nbconvert_exporter": "python",
   "pygments_lexer": "ipython3",
   "version": "3.7.10"
  }
 },
 "nbformat": 4,
 "nbformat_minor": 5
}
